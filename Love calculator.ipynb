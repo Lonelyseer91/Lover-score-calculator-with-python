{
 "cells": [
  {
   "cell_type": "code",
   "execution_count": 5,
   "id": "6afb7fce",
   "metadata": {},
   "outputs": [
    {
     "name": "stdout",
     "output_type": "stream",
     "text": [
      "Welcome to the Love Calculator!\n",
      "What is your name? \n",
      "Brad Pitt\n",
      "What is their name? \n",
      "Jennifer Aniston\n",
      "Your score is 73.\n"
     ]
    }
   ],
   "source": [
    "\n",
    "print(\"Welcome to the Love Calculator!\")\n",
    "name1 = input(\"What is your name? \\n\")\n",
    "name2 = input(\"What is their name? \\n\")\n",
    "name_one = name1.lower() + name2.lower()\n",
    "name_count = name_one.count(\"t\")\n",
    "name_count1 = name_one.count(\"r\")\n",
    "name_count2 = name_one.count(\"u\")\n",
    "name_count3 = name_one.count(\"e\")\n",
    "name_C = (name_count + name_count1 + name_count2 + name_count3)\n",
    "name_count4 = name_one.count(\"l\")\n",
    "name_count5 = name_one.count(\"o\")\n",
    "name_count6 = name_one.count(\"v\")\n",
    "name_count7 = name_one.count(\"e\")\n",
    "name_c = (name_count4 + name_count5 + name_count6 + name_count7)\n",
    "total_count = int(str(name_C) + str(name_c))\n",
    "\n",
    "if (total_count > 90) or (total_count < 10):\n",
    "    print(f\"Your score is {total_count}, you go together like coke and mentos.\")\n",
    "elif (total_count >= 40) and (total_count <= 50):\n",
    "    print(f\"Your score is {total_count}, you are alright together.\"\n",
    ")\n",
    "else:\n",
    "    print(f\"Your score is {total_count}.\")\n",
    "\n",
    "\n",
    "\n",
    "\n"
   ]
  },
  {
   "cell_type": "code",
   "execution_count": null,
   "id": "af366c15",
   "metadata": {},
   "outputs": [],
   "source": []
  }
 ],
 "metadata": {
  "kernelspec": {
   "display_name": "Python 3 (ipykernel)",
   "language": "python",
   "name": "python3"
  },
  "language_info": {
   "codemirror_mode": {
    "name": "ipython",
    "version": 3
   },
   "file_extension": ".py",
   "mimetype": "text/x-python",
   "name": "python",
   "nbconvert_exporter": "python",
   "pygments_lexer": "ipython3",
   "version": "3.9.7"
  }
 },
 "nbformat": 4,
 "nbformat_minor": 5
}
